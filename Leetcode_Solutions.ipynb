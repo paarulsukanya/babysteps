{
 "cells": [
  {
   "cell_type": "markdown",
   "metadata": {},
   "source": [
    "# 1. Two Sum\n",
    "\n",
    "Given an array of integers, return indices of the two numbers such that they add up to a specific target.\n",
    "\n",
    "You may assume that each input would have exactly one solution, and you may not use the same element twice."
   ]
  },
  {
   "cell_type": "code",
   "execution_count": 8,
   "metadata": {},
   "outputs": [
    {
     "name": "stdout",
     "output_type": "stream",
     "text": [
      "(1, 2)\n"
     ]
    }
   ],
   "source": [
    "class Solution():\n",
    "    def twoSum(self,nums,target):\n",
    "        d = dict()\n",
    "        for i,num in enumerate(nums):\n",
    "            x = target - num\n",
    "            if x in d:\n",
    "                return (d[x],i)\n",
    "            d[num] = i\n",
    "\n",
    "sol = Solution()\n",
    "nums = [1,5,2,9,10,11]\n",
    "target = 7\n",
    "print(sol.twoSum(nums,target))"
   ]
  },
  {
   "cell_type": "markdown",
   "metadata": {},
   "source": [
    "#### Variants:\n",
    "* input array is sorted: Two pointers, one from beginning and one from the end (Problem 167)\n",
    "* input array is BST: Breadth First Search (Problem 653)"
   ]
  },
  {
   "cell_type": "markdown",
   "metadata": {},
   "source": [
    "# 2. Add Two Numbers\n",
    "\n",
    "You are given two non-empty linked lists representing two non-negative integers. The digits are stored in reverse order and each of their nodes contain a single digit. Add the two numbers and return it as a linked list.\n",
    "\n",
    "You may assume the two numbers do not contain any leading zero, except the number 0 itself."
   ]
  },
  {
   "cell_type": "code",
   "execution_count": 65,
   "metadata": {},
   "outputs": [
    {
     "data": {
      "text/plain": [
       "2-->9-->None"
      ]
     },
     "execution_count": 65,
     "metadata": {},
     "output_type": "execute_result"
    }
   ],
   "source": [
    "class ListNode(object):\n",
    "    def __init__(self, x):\n",
    "        self.val = x\n",
    "        self.next = None\n",
    "    def __repr__(self):\n",
    "        return (\"%s-->%s\") % (self.val,self.next)\n",
    "\n",
    "class Solution(object):\n",
    "    def addTwoNumbers(self, l1, l2):\n",
    "        \"\"\"\n",
    "        :type l1: ListNode\n",
    "        :type l2: ListNode\n",
    "        :rtype: ListNode\n",
    "        \"\"\"\n",
    "        r = res = ListNode(0)\n",
    "        carry = 0\n",
    "        while l1 or l2 or carry:\n",
    "            v1 = v2 = 0\n",
    "            if l1:\n",
    "                v1 = l1.val\n",
    "                l1 = l1.next\n",
    "            if l2:\n",
    "                v2 = l2.val\n",
    "                l2 = l2.next\n",
    "            carry, val = divmod(v1+v2+carry, 10)\n",
    "            r.next = ListNode(val)\n",
    "            r = r.next\n",
    "        return res.next\n",
    "l1 = ListNode(5)\n",
    "l1.next = ListNode(6)\n",
    "\n",
    "l2 = ListNode(7)\n",
    "l2.next = ListNode(2)\n",
    "\n",
    "s = Solution()\n",
    "s.addTwoNumbers(l1,l2)"
   ]
  },
  {
   "cell_type": "markdown",
   "metadata": {},
   "source": [
    "# 21. Merge Two Sorted Lists\n",
    "\n",
    "Merge two sorted linked lists and return it as a new list. The new list should be made by splicing together the nodes of the first two lists."
   ]
  },
  {
   "cell_type": "code",
   "execution_count": 68,
   "metadata": {},
   "outputs": [
    {
     "data": {
      "text/plain": [
       "1-->2-->3-->None"
      ]
     },
     "execution_count": 68,
     "metadata": {},
     "output_type": "execute_result"
    }
   ],
   "source": [
    "class ListNode(object):\n",
    "    def __init__(self, x):\n",
    "        self.val = x\n",
    "        self.next = None\n",
    "    def __repr__(self):\n",
    "        return (\"%s-->%s\") % (self.val,self.next)\n",
    "\n",
    "class Solution(object):\n",
    "    def mergeTwoLists(self, l1, l2):\n",
    "        \"\"\"\n",
    "        :type l1: ListNode\n",
    "        :type l2: ListNode\n",
    "        :rtype: ListNode\n",
    "        \"\"\"\n",
    "        temp = head = ListNode('Dummy')\n",
    "        while l1 and l2:\n",
    "            if l1.val < l2.val:\n",
    "                temp.next = l1\n",
    "                l1 = l1.next\n",
    "            else:\n",
    "                temp.next = l2\n",
    "                l2 = l2.next\n",
    "            temp = temp.next\n",
    "        while l1:\n",
    "            temp.next = l1\n",
    "            l1 = l1.next\n",
    "            temp = temp.next\n",
    "        while l2:\n",
    "            temp.next = l2\n",
    "            l2 = l2.next\n",
    "            temp = temp.next\n",
    "        return head.next\n",
    "s = Solution()\n",
    "l1 = ListNode(1)\n",
    "l1.next = ListNode(3)\n",
    "l2 = ListNode(2)\n",
    "s.mergeTwoLists(l1,l2)\n",
    "                "
   ]
  },
  {
   "cell_type": "markdown",
   "metadata": {},
   "source": [
    "# 141. Linked List Cycle\n",
    "\n",
    "Given a linked list, determine if it has a cycle in it.\n",
    "\n",
    "Follow up:\n",
    "Can you solve it without using extra space?"
   ]
  },
  {
   "cell_type": "code",
   "execution_count": 63,
   "metadata": {
    "scrolled": true
   },
   "outputs": [
    {
     "name": "stdout",
     "output_type": "stream",
     "text": [
      "False\n"
     ]
    },
    {
     "data": {
      "text/plain": [
       "True"
      ]
     },
     "execution_count": 63,
     "metadata": {},
     "output_type": "execute_result"
    }
   ],
   "source": [
    "class Node(object):\n",
    "    def __init__(self, x):\n",
    "        self.val = x\n",
    "        self.next = None\n",
    "    def __repr__(self):\n",
    "        return (\"%s-->%s\") % (self.val,self.next)\n",
    "class LinkedList(object):\n",
    "    def __init__(self):\n",
    "        self.head = None\n",
    "    def push(self, new_data):\n",
    "        new_node = Node(new_data)\n",
    "        new_node.next = self.head\n",
    "        self.head = new_node\n",
    "    def hasCycle(self):\n",
    "        \"\"\"\n",
    "        :type head: ListNode\n",
    "        :rtype: bool\n",
    "        \"\"\"\n",
    "        s = f = self.head\n",
    "        while f and f.next:\n",
    "            s = s.next\n",
    "            f = f.next.next\n",
    "            if s == f:\n",
    "                return True\n",
    "        return False\n",
    "l = LinkedList()\n",
    "print(l.hasCycle())\n",
    "\n",
    "l1 = LinkedList()\n",
    "l1.push(5)\n",
    "l1.head.next = l1.head\n",
    "l1.hasCycle()"
   ]
  },
  {
   "cell_type": "markdown",
   "metadata": {},
   "source": [
    "# 202. Happy Number\n",
    "\n",
    "Write an algorithm to determine if a number is \"happy\".\n",
    "\n",
    "A happy number is a number defined by the following process: Starting with any positive integer, replace the number by the sum of the squares of its digits, and repeat the process until the number equals 1 (where it will stay), or it loops endlessly in a cycle which does not include 1. Those numbers for which this process ends in 1 are happy numbers."
   ]
  },
  {
   "cell_type": "code",
   "execution_count": 27,
   "metadata": {},
   "outputs": [
    {
     "data": {
      "text/plain": [
       "True"
      ]
     },
     "execution_count": 27,
     "metadata": {},
     "output_type": "execute_result"
    }
   ],
   "source": [
    "class Solution(object):\n",
    "    def isHappy(self, n):\n",
    "        \"\"\"\n",
    "        :type n: int\n",
    "        :rtype: bool\n",
    "        \"\"\"\n",
    "        s = set()\n",
    "        while n != 1:\n",
    "            n = sum([int(i)*int(i) for i in str(n)])\n",
    "            if n in s:\n",
    "                return False\n",
    "            s.add(n)\n",
    "        return True\n",
    "s = Solution()\n",
    "s.isHappy(0)\n",
    "s.isHappy(100)"
   ]
  },
  {
   "cell_type": "markdown",
   "metadata": {},
   "source": [
    "# 205. Isomorphic Strings\n",
    "\n",
    "Given two strings s and t, determine if they are isomorphic.\n",
    "\n",
    "Two strings are isomorphic if the characters in s can be replaced to get t.\n",
    "\n",
    "All occurrences of a character must be replaced with another character while preserving the order of characters. No two characters may map to the same character but a character may map to itself."
   ]
  },
  {
   "cell_type": "code",
   "execution_count": 19,
   "metadata": {},
   "outputs": [
    {
     "data": {
      "text/plain": [
       "True"
      ]
     },
     "execution_count": 19,
     "metadata": {},
     "output_type": "execute_result"
    }
   ],
   "source": [
    "class Solution(object):\n",
    "    def isIsomorphic(self, s, t):\n",
    "        \"\"\"\n",
    "        :type s: str\n",
    "        :type t: str\n",
    "        :rtype: bool\n",
    "        \"\"\"        \n",
    "        d = dict()\n",
    "        for i in range(len(s)):\n",
    "            if s[i] in d and d[s[i]] != t[i]:\n",
    "                return False\n",
    "            if s[i] not in d and t[i] in d.values():\n",
    "                return False\n",
    "            d[s[i]] = t[i]\n",
    "        return True\n",
    "s = Solution()\n",
    "s.isIsomorphic(\"\",\"\")\n",
    "s.isIsomorphic(\"ba\",\"aa\")\n",
    "s.isIsomorphic(\"egg\",\"add\")"
   ]
  },
  {
   "cell_type": "markdown",
   "metadata": {},
   "source": [
    "# 206. Reverse Linked List\n",
    "\n",
    "Reverse a singly linked list."
   ]
  },
  {
   "cell_type": "code",
   "execution_count": 56,
   "metadata": {},
   "outputs": [
    {
     "name": "stdout",
     "output_type": "stream",
     "text": [
      "1-->2-->3-->4-->5-->None\n",
      "ITERATION:  1\n",
      "Curr:  2-->3-->4-->5-->None\n",
      "Prev:  1-->None\n",
      "ITERATION:  2\n",
      "Curr:  3-->4-->5-->None\n",
      "Prev:  2-->1-->None\n",
      "ITERATION:  3\n",
      "Curr:  4-->5-->None\n",
      "Prev:  3-->2-->1-->None\n",
      "ITERATION:  4\n",
      "Curr:  5-->None\n",
      "Prev:  4-->3-->2-->1-->None\n",
      "ITERATION:  5\n",
      "Curr:  None\n",
      "Prev:  5-->4-->3-->2-->1-->None\n",
      "5-->4-->3-->2-->1-->None\n"
     ]
    }
   ],
   "source": [
    "class Node(object):\n",
    "    def __init__(self, x):\n",
    "        self.val = x\n",
    "        self.next = None\n",
    "    def __repr__(self):\n",
    "        return (\"%s-->%s\") % (self.val,self.next)\n",
    "\n",
    "class LinkedList(object):\n",
    "    def __init__(self):\n",
    "        self.head = None\n",
    "    def push(self, new_data):\n",
    "        new_node = Node(new_data)\n",
    "        new_node.next = self.head\n",
    "        self.head = new_node\n",
    "    def reverseList(self):\n",
    "        \"\"\"\n",
    "        :type head: ListNode\n",
    "        :rtype: ListNode\n",
    "        \"\"\"\n",
    "        prev = None\n",
    "        curr = self.head\n",
    "        next = None\n",
    "        ctr = 1\n",
    "        while curr:\n",
    "            print(\"ITERATION: \",ctr)\n",
    "            next = curr.next\n",
    "            curr.next = prev\n",
    "            prev = curr\n",
    "            curr = next\n",
    "            print(\"Curr: \",curr)\n",
    "            print(\"Prev: \",prev)\n",
    "            ctr += 1\n",
    "        self.head = prev\n",
    "l = LinkedList()\n",
    "l.push(5)\n",
    "l.push(4)\n",
    "l.push(3)\n",
    "l.push(2)\n",
    "l.push(1)\n",
    "print(l.head)\n",
    "l.reverseList()\n",
    "print(l.head)"
   ]
  },
  {
   "cell_type": "markdown",
   "metadata": {},
   "source": [
    "# 237. Delete Node in a Linked List\n",
    "\n",
    "Write a function to delete a node (except the tail) in a singly linked list, given only access to that node.\n",
    "\n",
    "Supposed the linked list is 1 -> 2 -> 3 -> 4 and you are given the third node with value 3, the linked list should become 1 -> 2 -> 4 after calling your function."
   ]
  },
  {
   "cell_type": "code",
   "execution_count": 42,
   "metadata": {},
   "outputs": [
    {
     "data": {
      "text/plain": [
       "1-->3-->None"
      ]
     },
     "execution_count": 42,
     "metadata": {},
     "output_type": "execute_result"
    }
   ],
   "source": [
    "class ListNode(object):\n",
    "    def __init__(self, x):\n",
    "        self.val = x\n",
    "        self.next = None\n",
    "    def __repr__(self):\n",
    "        return \"%s-->%s\" % (self.val,self.next)\n",
    "\n",
    "class Solution(object):\n",
    "    def deleteNode(self, node):\n",
    "        \"\"\"\n",
    "        :type node: ListNode\n",
    "        :rtype: void Do not return anything, modify node in-place instead.\n",
    "        \"\"\"\n",
    "        node.val = node.next.val\n",
    "        node.next = node.next.next\n",
    "\n",
    "        \n",
    "head = ListNode(1)\n",
    "head.next = ListNode(2)\n",
    "head.next.next = ListNode(3)\n",
    "s = Solution()\n",
    "s.deleteNode(head.next)\n",
    "head "
   ]
  },
  {
   "cell_type": "markdown",
   "metadata": {},
   "source": [
    "# 328. Odd Even Linked List\n",
    "\n",
    "Given a singly linked list, group all odd nodes together followed by the even nodes. Please note here we are talking about the node number and not the value in the nodes.\n",
    "\n",
    "You should try to do it in place. The program should run in O(1) space complexity and O(nodes) time complexity."
   ]
  },
  {
   "cell_type": "code",
   "execution_count": 67,
   "metadata": {},
   "outputs": [
    {
     "data": {
      "text/plain": [
       "1-->3-->2-->None"
      ]
     },
     "execution_count": 67,
     "metadata": {},
     "output_type": "execute_result"
    }
   ],
   "source": [
    "class ListNode(object):\n",
    "    def __init__(self, x):\n",
    "        self.val = x\n",
    "        self.next = None\n",
    "    def __repr__(self):\n",
    "        return \"%s-->%s\" % (self.val,self.next)\n",
    "\n",
    "class Solution(object):\n",
    "    def oddEvenList(self, head):\n",
    "        \"\"\"\n",
    "        :type head: ListNode\n",
    "        :rtype: ListNode\n",
    "        \"\"\"\n",
    "        if not head:\n",
    "            return head\n",
    "        odd = head\n",
    "        even = head.next\n",
    "        even_head = even\n",
    "        while even and even.next:\n",
    "            odd.next = even.next\n",
    "            even.next = even.next.next\n",
    "            odd = odd.next\n",
    "            even = even.next\n",
    "            \n",
    "        odd.next = even_head\n",
    "        return head\n",
    "\n",
    "head = ListNode(1)\n",
    "head.next = ListNode(2)\n",
    "head.next.next = ListNode(3)\n",
    "s = Solution()\n",
    "s.oddEvenList(head)\n",
    "\n",
    "        "
   ]
  },
  {
   "cell_type": "markdown",
   "metadata": {},
   "source": [
    "# 771. Jewels and Stones\n",
    "\n",
    "You're given strings J representing the types of stones that are jewels, and S representing the stones you have.  Each character in S is a type of stone you have.  You want to know how many of the stones you have are also jewels.\n",
    "\n",
    "The letters in J are guaranteed distinct, and all characters in J and S are letters. Letters are case sensitive, so \"a\" is considered a different type of stone from \"A\"."
   ]
  },
  {
   "cell_type": "code",
   "execution_count": 25,
   "metadata": {},
   "outputs": [
    {
     "data": {
      "text/plain": [
       "3"
      ]
     },
     "execution_count": 25,
     "metadata": {},
     "output_type": "execute_result"
    }
   ],
   "source": [
    "class Solution(object):\n",
    "    def numJewelsInStones(self, J, S):\n",
    "        \"\"\"\n",
    "        :type J: str\n",
    "        :type S: str\n",
    "        :rtype: int\n",
    "        \"\"\"\n",
    "        J = set(J)\n",
    "        ctr = 0\n",
    "        for i in range(len(S)):\n",
    "            if S[i] in J:\n",
    "                ctr += 1\n",
    "        return ctr\n",
    "s = Solution()\n",
    "s.numJewelsInStones(\"aA\",\"aAAbfg\")"
   ]
  }
 ],
 "metadata": {
  "kernelspec": {
   "display_name": "Python 3",
   "language": "python",
   "name": "python3"
  },
  "language_info": {
   "codemirror_mode": {
    "name": "ipython",
    "version": 3
   },
   "file_extension": ".py",
   "mimetype": "text/x-python",
   "name": "python",
   "nbconvert_exporter": "python",
   "pygments_lexer": "ipython3",
   "version": "3.5.2"
  }
 },
 "nbformat": 4,
 "nbformat_minor": 2
}
